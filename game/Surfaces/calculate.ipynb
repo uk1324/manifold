{
 "cells": [
  {
   "cell_type": "code",
   "execution_count": 101,
   "metadata": {},
   "outputs": [],
   "source": [
    "from sympy import *"
   ]
  },
  {
   "cell_type": "code",
   "execution_count": 110,
   "metadata": {},
   "outputs": [
    {
     "name": "stdout",
     "output_type": "stream",
     "text": [
      "Cristoffel symbols\n"
     ]
    },
    {
     "data": {
      "text/latex": [
       "$\\displaystyle \\left[\\begin{matrix}0 & 0\\\\0 & - \\frac{\\sin{\\left(2 u \\right)}}{2}\\end{matrix}\\right]$"
      ],
      "text/plain": [
       "Matrix([\n",
       "[0,           0],\n",
       "[0, -sin(2*u)/2]])"
      ]
     },
     "metadata": {},
     "output_type": "display_data"
    },
    {
     "data": {
      "text/latex": [
       "$\\displaystyle \\left[\\begin{matrix}0 & \\frac{1}{\\tan{\\left(u \\right)}}\\\\\\frac{1}{\\tan{\\left(u \\right)}} & 0\\end{matrix}\\right]$"
      ],
      "text/plain": [
       "Matrix([\n",
       "[       0, 1/tan(u)],\n",
       "[1/tan(u),        0]])"
      ]
     },
     "metadata": {},
     "output_type": "display_data"
    },
    {
     "name": "stdout",
     "output_type": "stream",
     "text": [
      "x_u\n"
     ]
    },
    {
     "data": {
      "text/latex": [
       "$\\displaystyle \\left[\\begin{matrix}r \\cos{\\left(u \\right)} \\cos{\\left(v \\right)}\\\\r \\sin{\\left(v \\right)} \\cos{\\left(u \\right)}\\\\- r \\sin{\\left(u \\right)}\\end{matrix}\\right]$"
      ],
      "text/plain": [
       "Matrix([\n",
       "[r*cos(u)*cos(v)],\n",
       "[r*sin(v)*cos(u)],\n",
       "[      -r*sin(u)]])"
      ]
     },
     "metadata": {},
     "output_type": "display_data"
    },
    {
     "name": "stdout",
     "output_type": "stream",
     "text": [
      "x_v\n"
     ]
    },
    {
     "data": {
      "text/latex": [
       "$\\displaystyle \\left[\\begin{matrix}- r \\sin{\\left(u \\right)} \\sin{\\left(v \\right)}\\\\r \\sin{\\left(u \\right)} \\cos{\\left(v \\right)}\\\\0\\end{matrix}\\right]$"
      ],
      "text/plain": [
       "Matrix([\n",
       "[-r*sin(u)*sin(v)],\n",
       "[ r*sin(u)*cos(v)],\n",
       "[               0]])"
      ]
     },
     "metadata": {},
     "output_type": "display_data"
    },
    {
     "name": "stdout",
     "output_type": "stream",
     "text": [
      "normal\n"
     ]
    },
    {
     "data": {
      "text/latex": [
       "$\\displaystyle \\left[\\begin{matrix}\\sin{\\left(u \\right)} \\cos{\\left(v \\right)}\\\\\\sin{\\left(u \\right)} \\sin{\\left(v \\right)}\\\\\\cos{\\left(u \\right)}\\end{matrix}\\right]$"
      ],
      "text/plain": [
       "Matrix([\n",
       "[sin(u)*cos(v)],\n",
       "[sin(u)*sin(v)],\n",
       "[       cos(u)]])"
      ]
     },
     "metadata": {},
     "output_type": "display_data"
    }
   ],
   "source": [
    "u, v = symbols('u, v')\n",
    "r = symbols('r')\n",
    "\n",
    "x = r * sin(u) * cos(v)\n",
    "y = r * sin(u) * sin(v)\n",
    "z = r * cos(u)\n",
    "\n",
    "surface = Matrix([[x], [y], [z]])\n",
    "\n",
    "# x_u = simplify(surface.diff(u))\n",
    "# x_v = simplify(surface.diff(v))\n",
    "# jacobian = simplify(Matrix.hstack(x_u, x_v))\n",
    "# display(jacobian)\n",
    "# simplify(jacobian.T * jacobian)\n",
    "coordinates = [u, v]\n",
    "jacobian = simplify(surface.jacobian(Matrix(coordinates)))\n",
    "metric = simplify(jacobian.T * jacobian)\n",
    "\n",
    "metricInv = simplify(metric.inv())\n",
    "\n",
    "coorindate_count = 2\n",
    "cristoffel = [ \n",
    "    [ \n",
    "        [Integer(0), Integer(0)],\n",
    "        [Integer(0), Integer(0)] \n",
    "    ],\n",
    "    [ \n",
    "        [Integer(0), Integer(0)],\n",
    "        [Integer(0), Integer(0)] \n",
    "    ] \n",
    "]\n",
    "\n",
    "# https://math.stackexchange.com/questions/1720424/how-to-best-calculate-christoffel-symbols-of-metric-du2-g2u-dv2\n",
    "for i in range(coorindate_count):\n",
    "    for j in range(coorindate_count):\n",
    "        x_j = coordinates[j]\n",
    "        for k in range(coorindate_count):\n",
    "            x_k = coordinates[k]\n",
    "            for m in range(coorindate_count):\n",
    "                x_m = coordinates[m]\n",
    "                cristoffel[i][j][k] += metricInv[i, m] * surface.diff(x_j, x_k).dot(surface.diff(x_m))\n",
    "\n",
    "for i in range(coorindate_count):\n",
    "    cristoffel[i] = simplify(Matrix(cristoffel[i]))\n",
    "\n",
    "print('Cristoffel symbols')\n",
    "display(cristoffel[0])\n",
    "display(cristoffel[1])\n",
    "\n",
    "x_u = jacobian.col(0)\n",
    "x_v = jacobian.col(1)\n",
    "print('x_u')\n",
    "display(x_u)\n",
    "\n",
    "print('x_v')\n",
    "display(x_v)\n",
    "\n",
    "# https://stackoverflow.com/questions/39691325/display-a-matrix-with-putting-a-common-factor-in-sympy\n",
    "normal = simplify(x_u.cross(x_v))\n",
    "normal = expand_trig(normal)\n",
    "normal /= gcd(tuple(normal))\n",
    "print('normal')\n",
    "display(normal)"
   ]
  },
  {
   "cell_type": "code",
   "execution_count": null,
   "metadata": {},
   "outputs": [],
   "source": []
  }
 ],
 "metadata": {
  "kernelspec": {
   "display_name": "Python 3",
   "language": "python",
   "name": "python3"
  },
  "language_info": {
   "codemirror_mode": {
    "name": "ipython",
    "version": 3
   },
   "file_extension": ".py",
   "mimetype": "text/x-python",
   "name": "python",
   "nbconvert_exporter": "python",
   "pygments_lexer": "ipython3",
   "version": "3.12.2"
  }
 },
 "nbformat": 4,
 "nbformat_minor": 2
}
