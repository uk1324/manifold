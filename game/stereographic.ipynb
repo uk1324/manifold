{
 "cells": [
  {
   "cell_type": "code",
   "execution_count": 2,
   "id": "f8bfd21f",
   "metadata": {},
   "outputs": [],
   "source": [
    "from sympy import *"
   ]
  },
  {
   "cell_type": "code",
   "execution_count": 3,
   "id": "6c033c50",
   "metadata": {},
   "outputs": [],
   "source": [
    "x, y, z = symbols('x y z')\n",
    "s = x * x + y * y + z * z\n",
    "a = 2 / (s + 1)\n",
    "r = Matrix([\n",
    "    x * a,\n",
    "    y * a,\n",
    "    z * a,\n",
    "    (s - 1) / (s + 1)\n",
    "])\n",
    "j = r.jacobian(Matrix([x, y, z]))\n",
    "j = simplify(j)\n",
    "# display(j)"
   ]
  }
 ],
 "metadata": {
  "kernelspec": {
   "display_name": "Python 3",
   "language": "python",
   "name": "python3"
  },
  "language_info": {
   "codemirror_mode": {
    "name": "ipython",
    "version": 3
   },
   "file_extension": ".py",
   "mimetype": "text/x-python",
   "name": "python",
   "nbconvert_exporter": "python",
   "pygments_lexer": "ipython3",
   "version": "3.12.2"
  }
 },
 "nbformat": 4,
 "nbformat_minor": 5
}
