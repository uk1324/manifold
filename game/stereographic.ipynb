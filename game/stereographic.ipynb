{
 "cells": [
  {
   "cell_type": "code",
   "execution_count": 2,
   "id": "f8bfd21f",
   "metadata": {},
   "outputs": [],
   "source": [
    "from sympy import *"
   ]
  },
  {
   "cell_type": "code",
   "execution_count": null,
   "id": "6c033c50",
   "metadata": {},
   "outputs": [
    {
     "data": {
      "text/latex": [
       "$\\displaystyle \\left[\\begin{matrix}\\frac{2 \\left(- x^{2} + y^{2} + z^{2} + 1\\right)}{\\left(x^{2} + y^{2} + z^{2} + 1\\right)^{2}} & - \\frac{4 x y}{\\left(x^{2} + y^{2} + z^{2} + 1\\right)^{2}} & - \\frac{4 x z}{\\left(x^{2} + y^{2} + z^{2} + 1\\right)^{2}}\\\\- \\frac{4 x y}{\\left(x^{2} + y^{2} + z^{2} + 1\\right)^{2}} & \\frac{2 \\left(x^{2} - y^{2} + z^{2} + 1\\right)}{\\left(x^{2} + y^{2} + z^{2} + 1\\right)^{2}} & - \\frac{4 y z}{\\left(x^{2} + y^{2} + z^{2} + 1\\right)^{2}}\\\\- \\frac{4 x z}{\\left(x^{2} + y^{2} + z^{2} + 1\\right)^{2}} & - \\frac{4 y z}{\\left(x^{2} + y^{2} + z^{2} + 1\\right)^{2}} & \\frac{2 \\left(x^{2} + y^{2} - z^{2} + 1\\right)}{\\left(x^{2} + y^{2} + z^{2} + 1\\right)^{2}}\\\\\\frac{4 x}{\\left(x^{2} + y^{2} + z^{2} + 1\\right)^{2}} & \\frac{4 y}{\\left(x^{2} + y^{2} + z^{2} + 1\\right)^{2}} & \\frac{4 z}{\\left(x^{2} + y^{2} + z^{2} + 1\\right)^{2}}\\end{matrix}\\right]$"
      ],
      "text/plain": [
       "Matrix([\n",
       "[2*(-x**2 + y**2 + z**2 + 1)/(x**2 + y**2 + z**2 + 1)**2,                     -4*x*y/(x**2 + y**2 + z**2 + 1)**2,                     -4*x*z/(x**2 + y**2 + z**2 + 1)**2],\n",
       "[                     -4*x*y/(x**2 + y**2 + z**2 + 1)**2, 2*(x**2 - y**2 + z**2 + 1)/(x**2 + y**2 + z**2 + 1)**2,                     -4*y*z/(x**2 + y**2 + z**2 + 1)**2],\n",
       "[                     -4*x*z/(x**2 + y**2 + z**2 + 1)**2,                     -4*y*z/(x**2 + y**2 + z**2 + 1)**2, 2*(x**2 + y**2 - z**2 + 1)/(x**2 + y**2 + z**2 + 1)**2],\n",
       "[                        4*x/(x**2 + y**2 + z**2 + 1)**2,                        4*y/(x**2 + y**2 + z**2 + 1)**2,                        4*z/(x**2 + y**2 + z**2 + 1)**2]])"
      ]
     },
     "metadata": {},
     "output_type": "display_data"
    }
   ],
   "source": [
    "x, y, z = symbols('x y z')\n",
    "s = x * x + y * y + z * z\n",
    "a = 2 / (s + 1)\n",
    "r = Matrix([\n",
    "    x * a,\n",
    "    y * a,\n",
    "    z * a,\n",
    "    (s - 1) / (s + 1)\n",
    "])\n",
    "j = r.jacobian(Matrix([x, y, z]))\n",
    "j = j.subs([(x, 0), (y, 0), (z, 0)])\n",
    "j = simplify(j)\n",
    "display(j)"
   ]
  }
 ],
 "metadata": {
  "kernelspec": {
   "display_name": "Python 3",
   "language": "python",
   "name": "python3"
  },
  "language_info": {
   "codemirror_mode": {
    "name": "ipython",
    "version": 3
   },
   "file_extension": ".py",
   "mimetype": "text/x-python",
   "name": "python",
   "nbconvert_exporter": "python",
   "pygments_lexer": "ipython3",
   "version": "3.12.2"
  }
 },
 "nbformat": 4,
 "nbformat_minor": 5
}
